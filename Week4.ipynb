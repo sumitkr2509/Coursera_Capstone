{
 "cells": [
  {
   "cell_type": "markdown",
   "metadata": {
    "collapsed": true
   },
   "source": [
    "# Problem Statement"
   ]
  },
  {
   "cell_type": "markdown",
   "metadata": {},
   "source": [
    "### I am working in an MNC in London, United Kingdom for 5 years. Now my company wants to expand its business in London. So in order to do so, it has to open a lot of new shops particulary in East Central, London."
   ]
  },
  {
   "cell_type": "markdown",
   "metadata": {},
   "source": [
    "### So me being the country head of United Kingdom, the company wants me to move to the East Central London in order to look after the new shops in a more better way and also I can address any problem happening there in the new shops."
   ]
  },
  {
   "cell_type": "markdown",
   "metadata": {},
   "source": [
    "### Now the problem is that I am current living in West London with my family and in order to move to East Central London . I need to shift my family too and in order to get reimbursement from my company I need to show them a perfect location in the East Central London for my living. "
   ]
  },
  {
   "cell_type": "markdown",
   "metadata": {},
   "source": [
    "###  So that I can get a place which is near from every good and exotic locations of our stores in East Central London and can have my family there and also look upto these stores whenever needed."
   ]
  },
  {
   "cell_type": "markdown",
   "metadata": {},
   "source": [
    "### I am required to present a report in order to give a best location for purchasing a house in the area  of East Central London. "
   ]
  },
  {
   "cell_type": "markdown",
   "metadata": {},
   "source": [
    "### Since London is a very big city and according my budget the only locality I will be able to purchase a house will be in East Central. So I wanted a perfect location in that locality  in which I can purchase my house and shift my family there,"
   ]
  },
  {
   "cell_type": "markdown",
   "metadata": {},
   "source": [
    "### London being such a big and world famous city, it is really hard to pick up a house to live that too in the East Central London as the place is a home for many foreigners."
   ]
  },
  {
   "cell_type": "markdown",
   "metadata": {},
   "source": [
    "### I will have to show the company a detailed report of my surroundings and for that I will perform some analysis over the area of the East Central London."
   ]
  },
  {
   "cell_type": "markdown",
   "metadata": {},
   "source": [
    "# Data Description"
   ]
  },
  {
   "cell_type": "markdown",
   "metadata": {},
   "source": [
    "## I will be using  https://en.wikipedia.org/wiki/EC_postcode_area for the postal codes and  Forthsquare for retrieving the nearby locations for comparing and obviously the Geospatial data for mapping. These will help me to find the cluster of areas and help me to find a best and suitable location for my new house in East Central London. I will present my report on the basis of these data. Also I will be keeping in mind the location every places around the East Central London for preparing my report."
   ]
  },
  {
   "cell_type": "code",
   "execution_count": null,
   "metadata": {},
   "outputs": [],
   "source": []
  }
 ],
 "metadata": {
  "kernelspec": {
   "display_name": "Python 3.6",
   "language": "python",
   "name": "python3"
  },
  "language_info": {
   "codemirror_mode": {
    "name": "ipython",
    "version": 3
   },
   "file_extension": ".py",
   "mimetype": "text/x-python",
   "name": "python",
   "nbconvert_exporter": "python",
   "pygments_lexer": "ipython3",
   "version": "3.6.9"
  }
 },
 "nbformat": 4,
 "nbformat_minor": 1
}
